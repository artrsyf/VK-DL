{
 "cells": [
  {
   "cell_type": "markdown",
   "id": "25f4eeb6",
   "metadata": {},
   "source": [
    "## Домашнее задание: \"Введение, основы нейронных сетей\""
   ]
  },
  {
   "cell_type": "markdown",
   "id": "2e3ec4c1",
   "metadata": {},
   "source": [
    "ФИО: Фадеев Роман Андреевич"
   ]
  },
  {
   "cell_type": "code",
   "execution_count": 1,
   "id": "8cc148dc-d83d-4c32-bbb0-3ffd82ba4e98",
   "metadata": {},
   "outputs": [],
   "source": [
    "import numpy as np\n",
    "import pandas as pd\n",
    "import matplotlib.pyplot as plt\n",
    "\n",
    "from sklearn.linear_model import LinearRegression\n",
    "from sklearn.model_selection import train_test_split\n",
    "from sklearn.metrics import r2_score\n",
    "from sklearn.preprocessing import MinMaxScaler\n",
    "\n",
    "%matplotlib inline"
   ]
  },
  {
   "cell_type": "markdown",
   "id": "e3a06e1e-3bc0-4667-84f3-7e86698c3737",
   "metadata": {},
   "source": [
    "# Загружаем выборку Diamonds"
   ]
  },
  {
   "cell_type": "markdown",
   "id": "c731a143-3dc9-43e7-96f5-b1eff9093345",
   "metadata": {},
   "source": [
    "1. PRICE: price in US dollars (326-18,823)\n",
    "2. CARAT: weight of the diamond (0.2--5.01)\n",
    "3. CUT: quality of the cut (Fair, Good, Very Good, Premium, Ideal)\n",
    "4. COLOR: diamond colour, from J (worst) to D (best)\n",
    "5. CLARITY: a measurement of how clear the diamond is (I1 (worst), SI2, SI1, VS2, VS1, VVS2, VVS1, IF (best))\n",
    "6. X: length in mm (0--10.74)\n",
    "7. Y: width in mm (0--58.9)\n",
    "8. Z: depth in mm (0--31.8)\n",
    "9. DEPTH: total depth percentage = z / mean(x, y) = 2 * z / (x + y) (43--79)\n",
    "10. TABLE: width of top of diamond relative to widest point (43--95)"
   ]
  },
  {
   "cell_type": "code",
   "execution_count": 2,
   "id": "0f24cf86-653a-422b-9df1-8029fdccf153",
   "metadata": {},
   "outputs": [],
   "source": [
    "diamonds_df = pd.read_csv('diamonds.csv')"
   ]
  },
  {
   "cell_type": "code",
   "execution_count": 3,
   "id": "70d9ccfe-e1cf-4c90-a5ab-40ae0852f1ce",
   "metadata": {},
   "outputs": [
    {
     "data": {
      "text/html": [
       "<div>\n",
       "<style scoped>\n",
       "    .dataframe tbody tr th:only-of-type {\n",
       "        vertical-align: middle;\n",
       "    }\n",
       "\n",
       "    .dataframe tbody tr th {\n",
       "        vertical-align: top;\n",
       "    }\n",
       "\n",
       "    .dataframe thead th {\n",
       "        text-align: right;\n",
       "    }\n",
       "</style>\n",
       "<table border=\"1\" class=\"dataframe\">\n",
       "  <thead>\n",
       "    <tr style=\"text-align: right;\">\n",
       "      <th></th>\n",
       "      <th>Unnamed: 0</th>\n",
       "      <th>carat</th>\n",
       "      <th>cut</th>\n",
       "      <th>color</th>\n",
       "      <th>clarity</th>\n",
       "      <th>depth</th>\n",
       "      <th>table</th>\n",
       "      <th>price</th>\n",
       "      <th>x</th>\n",
       "      <th>y</th>\n",
       "      <th>z</th>\n",
       "    </tr>\n",
       "  </thead>\n",
       "  <tbody>\n",
       "    <tr>\n",
       "      <th>0</th>\n",
       "      <td>1</td>\n",
       "      <td>0.23</td>\n",
       "      <td>Ideal</td>\n",
       "      <td>E</td>\n",
       "      <td>SI2</td>\n",
       "      <td>61.5</td>\n",
       "      <td>55.0</td>\n",
       "      <td>326</td>\n",
       "      <td>3.95</td>\n",
       "      <td>3.98</td>\n",
       "      <td>2.43</td>\n",
       "    </tr>\n",
       "    <tr>\n",
       "      <th>1</th>\n",
       "      <td>2</td>\n",
       "      <td>0.21</td>\n",
       "      <td>Premium</td>\n",
       "      <td>E</td>\n",
       "      <td>SI1</td>\n",
       "      <td>59.8</td>\n",
       "      <td>61.0</td>\n",
       "      <td>326</td>\n",
       "      <td>3.89</td>\n",
       "      <td>3.84</td>\n",
       "      <td>2.31</td>\n",
       "    </tr>\n",
       "    <tr>\n",
       "      <th>2</th>\n",
       "      <td>3</td>\n",
       "      <td>0.23</td>\n",
       "      <td>Good</td>\n",
       "      <td>E</td>\n",
       "      <td>VS1</td>\n",
       "      <td>56.9</td>\n",
       "      <td>65.0</td>\n",
       "      <td>327</td>\n",
       "      <td>4.05</td>\n",
       "      <td>4.07</td>\n",
       "      <td>2.31</td>\n",
       "    </tr>\n",
       "    <tr>\n",
       "      <th>3</th>\n",
       "      <td>4</td>\n",
       "      <td>0.29</td>\n",
       "      <td>Premium</td>\n",
       "      <td>I</td>\n",
       "      <td>VS2</td>\n",
       "      <td>62.4</td>\n",
       "      <td>58.0</td>\n",
       "      <td>334</td>\n",
       "      <td>4.20</td>\n",
       "      <td>4.23</td>\n",
       "      <td>2.63</td>\n",
       "    </tr>\n",
       "    <tr>\n",
       "      <th>4</th>\n",
       "      <td>5</td>\n",
       "      <td>0.31</td>\n",
       "      <td>Good</td>\n",
       "      <td>J</td>\n",
       "      <td>SI2</td>\n",
       "      <td>63.3</td>\n",
       "      <td>58.0</td>\n",
       "      <td>335</td>\n",
       "      <td>4.34</td>\n",
       "      <td>4.35</td>\n",
       "      <td>2.75</td>\n",
       "    </tr>\n",
       "  </tbody>\n",
       "</table>\n",
       "</div>"
      ],
      "text/plain": [
       "   Unnamed: 0  carat      cut color clarity  depth  table  price     x     y  \\\n",
       "0           1   0.23    Ideal     E     SI2   61.5   55.0    326  3.95  3.98   \n",
       "1           2   0.21  Premium     E     SI1   59.8   61.0    326  3.89  3.84   \n",
       "2           3   0.23     Good     E     VS1   56.9   65.0    327  4.05  4.07   \n",
       "3           4   0.29  Premium     I     VS2   62.4   58.0    334  4.20  4.23   \n",
       "4           5   0.31     Good     J     SI2   63.3   58.0    335  4.34  4.35   \n",
       "\n",
       "      z  \n",
       "0  2.43  \n",
       "1  2.31  \n",
       "2  2.31  \n",
       "3  2.63  \n",
       "4  2.75  "
      ]
     },
     "execution_count": 3,
     "metadata": {},
     "output_type": "execute_result"
    }
   ],
   "source": [
    "diamonds_df.head()"
   ]
  },
  {
   "cell_type": "code",
   "execution_count": 4,
   "id": "fad21c95-f542-44ec-8f06-8f57fd42ddef",
   "metadata": {},
   "outputs": [
    {
     "data": {
      "image/png": "[encoded data removed]",
      "text/plain": [
       "<Figure size 640x480 with 1 Axes>"
      ]
     },
     "metadata": {},
     "output_type": "display_data"
    }
   ],
   "source": [
    "plt.hist(diamonds_df['price'], bins=100)\n",
    "plt.grid()"
   ]
  },
  {
   "cell_type": "markdown",
   "id": "17ac44bb-86c7-424a-8b9b-0a21bf490683",
   "metadata": {},
   "source": [
    "# Подготовка данных"
   ]
  },
  {
   "cell_type": "code",
   "execution_count": 5,
   "id": "e19945ea-cecf-481e-a28b-3f9c11001918",
   "metadata": {},
   "outputs": [],
   "source": [
    "features = ['carat', 'cut', 'color', 'clarity', 'depth', 'table', 'x', 'y', 'z']\n",
    "target = ['price']"
   ]
  },
  {
   "cell_type": "code",
   "execution_count": 6,
   "id": "fbc43eb0-e77f-4765-8b0e-b9052c093855",
   "metadata": {},
   "outputs": [],
   "source": [
    "cut_transform = {'Fair': 0, 'Good': 1, 'Very Good': 2, 'Premium': 3, 'Ideal': 4}\n",
    "clarity_transform = {'I1': 0, 'SI2': 1, 'SI1': 2, 'VS2': 3, 'VS1': 4, 'VVS2': 5, 'VVS1': 6, 'IF': 7}\n",
    "color_transorm = {'D': 0, 'E': 1, 'F': 2, 'G': 3, 'H': 4, 'I': 5, 'J': 6}"
   ]
  },
  {
   "cell_type": "code",
   "execution_count": 7,
   "id": "6f82b34f-9ffc-478f-a103-b2cbbca49a94",
   "metadata": {},
   "outputs": [],
   "source": [
    "diamonds_df['cut'] = diamonds_df['cut'].apply(lambda x: cut_transform.get(x))\n",
    "diamonds_df['color'] = diamonds_df['color'].apply(lambda x: color_transorm.get(x))\n",
    "diamonds_df['clarity'] = diamonds_df['clarity'].apply(lambda x: clarity_transform.get(x))"
   ]
  },
  {
   "cell_type": "code",
   "execution_count": 8,
   "id": "8e5fa82b-92ed-4e79-adf2-422204b45e82",
   "metadata": {},
   "outputs": [],
   "source": [
    "X = diamonds_df[features].copy().values\n",
    "y = diamonds_df[target].values"
   ]
  },
  {
   "cell_type": "code",
   "execution_count": 9,
   "id": "baafcd96-b32e-469e-b354-fa0aba09db8f",
   "metadata": {},
   "outputs": [],
   "source": [
    "scaler = MinMaxScaler()\n",
    "X = scaler.fit_transform(X)"
   ]
  },
  {
   "cell_type": "code",
   "execution_count": 10,
   "id": "64c11d68-dc5c-4753-9cc4-3cc4e136f3cb",
   "metadata": {},
   "outputs": [],
   "source": [
    "X_train, X_test, y_train, y_test = train_test_split(X, y, random_state=47, test_size=0.3)"
   ]
  },
  {
   "cell_type": "markdown",
   "id": "3b743ed1-d0cf-485d-b8f2-8c71fc174e8b",
   "metadata": {},
   "source": [
    "# Обучаем модель линейной регрессии"
   ]
  },
  {
   "cell_type": "code",
   "execution_count": 11,
   "id": "0068e36f-040e-4aa3-bb06-88aa95051478",
   "metadata": {},
   "outputs": [],
   "source": [
    "reg = LinearRegression().fit(X_train, y_train)"
   ]
  },
  {
   "cell_type": "code",
   "execution_count": 12,
   "id": "f968e336-4049-41b2-81d1-4c24f0969bbb",
   "metadata": {},
   "outputs": [],
   "source": [
    "y_pred = reg.predict(X_test)"
   ]
  },
  {
   "cell_type": "code",
   "execution_count": 13,
   "id": "0952990a-b3d6-4da4-9cc6-1ab3a7a25ac7",
   "metadata": {},
   "outputs": [],
   "source": [
    "score = r2_score(y_pred, y_test)"
   ]
  },
  {
   "cell_type": "code",
   "execution_count": 14,
   "id": "f89c3bbd-0a3a-48ac-b1ab-b75dc0c5bcce",
   "metadata": {},
   "outputs": [
    {
     "data": {
      "image/png": "[encoded data removed]",
      "text/plain": [
       "<Figure size 640x480 with 1 Axes>"
      ]
     },
     "metadata": {},
     "output_type": "display_data"
    }
   ],
   "source": [
    "plt.title(f'R2: {str(score)[:5]}')\n",
    "plt.hist(y_pred.reshape(1, -1)[0], bins=100, label='PREDICTION')\n",
    "plt.hist(y_test.reshape(1, -1)[0], bins=100, label='GT')\n",
    "plt.legend()\n",
    "plt.grid()"
   ]
  },
  {
   "cell_type": "markdown",
   "id": "7886f8b7-ba2e-4fde-8b91-f815ea961fe5",
   "metadata": {},
   "source": [
    "# Создаём модель MLP для задачи регрессии"
   ]
  },
  {
   "cell_type": "code",
   "execution_count": 90,
   "id": "51b7ef93-763a-4617-98e4-c2c98e2a12a5",
   "metadata": {},
   "outputs": [],
   "source": [
    "import numpy as np\n",
    "\n",
    "class MLPRegressor:\n",
    "    def __init__(self, hidden_layer_sizes=(100,), learning_rate=0.001, max_iter=1000):\n",
    "        self.hidden_layer_sizes = hidden_layer_sizes\n",
    "        self.learning_rate = learning_rate\n",
    "        self.max_iter = max_iter\n",
    "        self.weights = []\n",
    "        self.biases = []\n",
    "        self.loss_history = []\n",
    "\n",
    "    def _initialize_weights(self, input_size, output_size):\n",
    "        layer_sizes = [input_size] + list(self.hidden_layer_sizes) + [output_size]\n",
    "\n",
    "        for i in range(len(layer_sizes) - 1):\n",
    "            W = np.random.randn(layer_sizes[i], layer_sizes[i + 1]) * np.sqrt(2 / layer_sizes[i])\n",
    "            b = np.zeros((1, layer_sizes[i + 1]))\n",
    "            self.weights.append(W)\n",
    "            self.biases.append(b)\n",
    "\n",
    "    def _relu(self, Z):\n",
    "        return np.maximum(0, Z)\n",
    "    \n",
    "    def _relu_derivative(self, Z):\n",
    "        return Z > 0\n",
    "\n",
    "    def _forward(self, X):\n",
    "        activations = [X]\n",
    "        Zs = []\n",
    "        for i in range(len(self.weights) - 1):\n",
    "            Z = activations[-1] @ self.weights[i] + self.biases[i]\n",
    "            Zs.append(Z)\n",
    "            A = self._relu(Z)  # ReLU активация\n",
    "            activations.append(A)\n",
    "        \n",
    "        Z = activations[-1] @ self.weights[-1] + self.biases[-1]\n",
    "        Zs.append(Z)\n",
    "        activations.append(Z)\n",
    "\n",
    "        return activations, Zs\n",
    "\n",
    "    def _compute_loss(self, y_pred, y):\n",
    "        return np.mean((y_pred - y) ** 2)\n",
    "\n",
    "    def _backward(self, X, y, activations, Zs):\n",
    "        m = X.shape[0]\n",
    "        dA = activations[-1] - y\n",
    "        grads_w = []\n",
    "        grads_b = []\n",
    "\n",
    "        for i in reversed(range(len(self.weights))):\n",
    "            dZ = dA\n",
    "            dW = activations[i].T @ dZ / m\n",
    "            db = np.sum(dZ, axis=0, keepdims=True) / m\n",
    "            grads_w.append(dW)\n",
    "            grads_b.append(db)\n",
    "\n",
    "            if i > 0:\n",
    "                dA = dZ @ self.weights[i].T * self._relu_derivative(Zs[i - 1])\n",
    "        \n",
    "        grads_w.reverse()\n",
    "        grads_b.reverse()\n",
    "\n",
    "        return grads_w, grads_b\n",
    "\n",
    "    def train(self, X, y):\n",
    "        input_size = X.shape[1]\n",
    "        output_size = y.shape[1] if len(y.shape) > 1 else 1\n",
    "\n",
    "        self._initialize_weights(input_size, output_size)\n",
    "\n",
    "        for epoch in range(self.max_iter):\n",
    "            activations, Zs = self._forward(X)\n",
    "            y_pred = activations[-1]\n",
    "\n",
    "            loss = self._compute_loss(y_pred, y)\n",
    "            self.loss_history.append(loss)\n",
    "\n",
    "            grads_w, grads_b = self._backward(X, y, activations, Zs)\n",
    "\n",
    "            for i in range(len(self.weights)):\n",
    "                self.weights[i] -= self.learning_rate * grads_w[i]\n",
    "                self.biases[i] -= self.learning_rate * grads_b[i]\n",
    "\n",
    "            if (epoch + 1) % 100 == 0:\n",
    "                print(f'Epoch {epoch + 1}/{self.max_iter}, Loss: {loss}')\n",
    "\n",
    "    def predict(self, X):\n",
    "        activations, _ = self._forward(X)\n",
    "        return activations[-1]"
   ]
  },
  {
   "cell_type": "markdown",
   "id": "f0c9f164",
   "metadata": {},
   "source": [
    "# Проверяем модель MLP на выборке Diamonds"
   ]
  },
  {
   "cell_type": "code",
   "execution_count": 97,
   "id": "0e4d6230-d770-480d-a2d8-8278796fc5b5",
   "metadata": {},
   "outputs": [
    {
     "name": "stdout",
     "output_type": "stream",
     "text": [
      "Epoch 100/10000, Loss: 31523531.85153672\n",
      "Epoch 200/10000, Loss: 31519702.840612505\n",
      "Epoch 300/10000, Loss: 31512681.65524034\n",
      "Epoch 400/10000, Loss: 31497904.400653996\n",
      "Epoch 500/10000, Loss: 31451374.46073508\n",
      "Epoch 600/10000, Loss: 31029464.291295405\n",
      "Epoch 700/10000, Loss: 1892925.7362571408\n",
      "Epoch 800/10000, Loss: 1280124.1009802204\n",
      "Epoch 900/10000, Loss: 1140194.1967682228\n",
      "Epoch 1000/10000, Loss: 1052584.2422936074\n",
      "Epoch 1100/10000, Loss: 989246.6549312851\n",
      "Epoch 1200/10000, Loss: 942163.1285744148\n",
      "Epoch 1300/10000, Loss: 903541.4145145942\n",
      "Epoch 1400/10000, Loss: 871118.5882266584\n",
      "Epoch 1500/10000, Loss: 842581.5396165216\n",
      "Epoch 1600/10000, Loss: 816477.8284499736\n",
      "Epoch 1700/10000, Loss: 791608.9339198575\n",
      "Epoch 1800/10000, Loss: 767326.1958306564\n",
      "Epoch 1900/10000, Loss: 743631.9302892137\n",
      "Epoch 2000/10000, Loss: 720428.935343103\n",
      "Epoch 2100/10000, Loss: 698015.1183013932\n",
      "Epoch 2200/10000, Loss: 676215.0997790035\n",
      "Epoch 2300/10000, Loss: 655221.315209254\n",
      "Epoch 2400/10000, Loss: 635536.3183375301\n",
      "Epoch 2500/10000, Loss: 617379.9628731171\n",
      "Epoch 2600/10000, Loss: 601598.7238162762\n",
      "Epoch 2700/10000, Loss: 588357.9652780921\n",
      "Epoch 2800/10000, Loss: 576999.3152799166\n",
      "Epoch 2900/10000, Loss: 567084.9349671466\n",
      "Epoch 3000/10000, Loss: 558482.3234453124\n",
      "Epoch 3100/10000, Loss: 550932.2777430929\n",
      "Epoch 3200/10000, Loss: 544202.6985250552\n",
      "Epoch 3300/10000, Loss: 538153.8784116308\n",
      "Epoch 3400/10000, Loss: 532480.3685252476\n",
      "Epoch 3500/10000, Loss: 527195.38157046\n",
      "Epoch 3600/10000, Loss: 522314.8075602896\n",
      "Epoch 3700/10000, Loss: 517744.3028626539\n",
      "Epoch 3800/10000, Loss: 513438.8727247913\n",
      "Epoch 3900/10000, Loss: 509312.01160311815\n",
      "Epoch 4000/10000, Loss: 505228.7947600445\n",
      "Epoch 4100/10000, Loss: 501256.72282929946\n",
      "Epoch 4200/10000, Loss: 497410.5898138191\n",
      "Epoch 4300/10000, Loss: 493624.04846041516\n",
      "Epoch 4400/10000, Loss: 489878.00329952623\n",
      "Epoch 4500/10000, Loss: 486225.9122727528\n",
      "Epoch 4600/10000, Loss: 482694.8304202066\n",
      "Epoch 4700/10000, Loss: 479301.6595295267\n",
      "Epoch 4800/10000, Loss: 476066.5825089842\n",
      "Epoch 4900/10000, Loss: 472956.4788818648\n",
      "Epoch 5000/10000, Loss: 469941.09868840507\n",
      "Epoch 5100/10000, Loss: 466998.8511353882\n",
      "Epoch 5200/10000, Loss: 464120.08197426586\n",
      "Epoch 5300/10000, Loss: 461282.9315440174\n",
      "Epoch 5400/10000, Loss: 458476.6437005466\n",
      "Epoch 5500/10000, Loss: 455719.47463757533\n",
      "Epoch 5600/10000, Loss: 453034.96305889386\n",
      "Epoch 5700/10000, Loss: 450405.926662075\n",
      "Epoch 5800/10000, Loss: 447830.268186691\n",
      "Epoch 5900/10000, Loss: 445352.03052133974\n",
      "Epoch 6000/10000, Loss: 442867.27739561925\n",
      "Epoch 6100/10000, Loss: 440424.8496656563\n",
      "Epoch 6200/10000, Loss: 438028.2679561689\n",
      "Epoch 6300/10000, Loss: 435618.2828584952\n",
      "Epoch 6400/10000, Loss: 433224.22180940176\n",
      "Epoch 6500/10000, Loss: 430860.48890030745\n",
      "Epoch 6600/10000, Loss: 428501.3125630165\n",
      "Epoch 6700/10000, Loss: 426173.5741885332\n",
      "Epoch 6800/10000, Loss: 423795.0643222569\n",
      "Epoch 6900/10000, Loss: 421427.78946142236\n",
      "Epoch 7000/10000, Loss: 419046.968846615\n",
      "Epoch 7100/10000, Loss: 416723.45807134884\n",
      "Epoch 7200/10000, Loss: 414418.5116456639\n",
      "Epoch 7300/10000, Loss: 412078.5602496133\n",
      "Epoch 7400/10000, Loss: 409804.04958770605\n",
      "Epoch 7500/10000, Loss: 407550.3856317625\n",
      "Epoch 7600/10000, Loss: 405357.5839819183\n",
      "Epoch 7700/10000, Loss: 403164.0141469329\n",
      "Epoch 7800/10000, Loss: 400994.4893881887\n",
      "Epoch 7900/10000, Loss: 398895.87152841536\n",
      "Epoch 8000/10000, Loss: 396843.8675276671\n",
      "Epoch 8100/10000, Loss: 394841.56535554904\n",
      "Epoch 8200/10000, Loss: 392854.2955930434\n",
      "Epoch 8300/10000, Loss: 390854.2482644815\n",
      "Epoch 8400/10000, Loss: 388838.0719687657\n",
      "Epoch 8500/10000, Loss: 386861.41651908035\n",
      "Epoch 8600/10000, Loss: 384873.14776577044\n",
      "Epoch 8700/10000, Loss: 382879.0846228416\n",
      "Epoch 8800/10000, Loss: 380968.1756915146\n",
      "Epoch 8900/10000, Loss: 489572.9200120315\n",
      "Epoch 9000/10000, Loss: 396735.91233214736\n",
      "Epoch 9100/10000, Loss: 404104.54297076404\n",
      "Epoch 9200/10000, Loss: 412546.6353313308\n",
      "Epoch 9300/10000, Loss: 405147.131269075\n",
      "Epoch 9400/10000, Loss: 405076.9352649979\n",
      "Epoch 9500/10000, Loss: 407701.84150658705\n",
      "Epoch 9600/10000, Loss: 403564.7586915544\n",
      "Epoch 9700/10000, Loss: 402836.6809354078\n",
      "Epoch 9800/10000, Loss: 404453.5508761511\n",
      "Epoch 9900/10000, Loss: 399253.49841866724\n",
      "Epoch 10000/10000, Loss: 401566.68418720056\n",
      "0.9749995810572604\n"
     ]
    }
   ],
   "source": [
    "mlp_reg_v2 = MLPRegressor(hidden_layer_sizes=(41, 28, 14, 8), learning_rate=0.0000001, max_iter=10000)\n",
    "\n",
    "mlp_reg_v2.train(X_train, y_train)\n",
    "y_mlp_pred2 = mlp_reg_v2.predict(X_test)\n",
    "mlp_score2 = r2_score(y_mlp_pred2, y_test)\n",
    "print(mlp_score2)"
   ]
  },
  {
   "cell_type": "markdown",
   "id": "27b7acfa",
   "metadata": {},
   "source": [
    "# Сравним результаты"
   ]
  },
  {
   "cell_type": "code",
   "execution_count": 99,
   "id": "25fd534f",
   "metadata": {},
   "outputs": [
    {
     "data": {
      "image/png": "[encoded data removed]",
      "text/plain": [
       "<Figure size 640x480 with 1 Axes>"
      ]
     },
     "metadata": {},
     "output_type": "display_data"
    }
   ],
   "source": [
    "plt.title(f'R2: {str(score)[:5]}')\n",
    "plt.hist(y_pred.reshape(1, -1)[0], bins=100, label='PREDICTION')\n",
    "plt.hist(y_mlp_pred2.reshape(1, -1)[0], bins=100, label='MLP')\n",
    "plt.hist(y_test.reshape(1, -1)[0], bins=100, label='GT')\n",
    "plt.legend()\n",
    "plt.grid()"
   ]
  },
  {
   "cell_type": "markdown",
   "id": "5ff60ab3",
   "metadata": {},
   "source": [
    "## Выводы"
   ]
  },
  {
   "cell_type": "markdown",
   "id": "fd1edf72",
   "metadata": {},
   "source": [
    "- Реализован MLP;\n",
    "- На тестовой выборке получен хороший R2 score: 0.9749995810572604;\n",
    "- Предсказания MLP куда лучше аппроксимируют таргетную функцию, чем LinearRegression."
   ]
  }
 ],
 "metadata": {
  "kernelspec": {
   "display_name": "Python 3 (ipykernel)",
   "language": "python",
   "name": "python3"
  }
 },
 "nbformat": 4,
 "nbformat_minor": 5
}
